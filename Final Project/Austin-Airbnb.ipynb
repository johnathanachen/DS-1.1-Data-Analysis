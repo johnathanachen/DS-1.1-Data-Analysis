{
 "cells": [
  {
   "cell_type": "code",
   "execution_count": 1,
   "metadata": {
    "slideshow": {
     "slide_type": "skip"
    }
   },
   "outputs": [],
   "source": [
    "import pandas as pd\n",
    "import matplotlib.pyplot as plt\n",
    "import statsmodels.api as sm\n",
    "import seaborn as sns\n",
    "import quandl\n",
    "import numpy as np\n",
    "import re"
   ]
  },
  {
   "cell_type": "code",
   "execution_count": 115,
   "metadata": {
    "slideshow": {
     "slide_type": "skip"
    }
   },
   "outputs": [],
   "source": [
    "listings = pd.read_csv('data/listings.csv')\n",
    "calendar = pd.read_csv('data/calendar.csv', parse_dates=True, index_col='date')\n",
    "reviews = pd.read_csv('data/reviews.csv')\n",
    "neighbourhoods = pd.read_csv('data/neighbourhoods.csv')\n",
    "\n",
    "april_2017 = pd.read_csv('data/4_2018_calendar.csv') # 4/27/2018 - 2/23/2019\n",
    "march_2017 = pd.read_csv('data/march_2017_calendar.csv', parse_dates=True, index_col='date') # 3/07/2017 - 12/31/2017\n",
    "\n",
    "# 2017 March 10-19\n",
    "# 2018 March 9-18"
   ]
  },
  {
   "cell_type": "markdown",
   "metadata": {
    "slideshow": {
     "slide_type": "slide"
    }
   },
   "source": [
    "# 2018 - 2019 Austin Airbnb Dataset\n",
    "\n",
    "### Source\n",
    "insideairbnb.com\n",
    "\n",
    "### Datasets\n",
    "- listings.csv<br>\n",
    "    - Detailed Listings data for Austin\n",
    "<br>\n",
    "<br>\n",
    "- calendar.csv<br>\n",
    "    * Detailed Calendar Data for listings in Austin\n",
    "\n",
    "### Questions Explored\n",
    "- **What are the busiest times of the year to visit Austin? By how much does prices spike?**\n",
    "<br>\n",
    "- **What is the impact on price from the number of available listings**"
   ]
  },
  {
   "cell_type": "markdown",
   "metadata": {
    "slideshow": {
     "slide_type": "subslide"
    }
   },
   "source": [
    "## Main Features\n",
    "- available\n",
    "- listing_id\n",
    "- date\n",
    "- price\n",
    "- availability_365"
   ]
  },
  {
   "cell_type": "markdown",
   "metadata": {
    "slideshow": {
     "slide_type": "subslide"
    }
   },
   "source": [
    "<br>\n",
    "**Notes**\n",
    "- Months 9/12 - 12 are in 2018\n",
    "- Months 1 - 9/11 are in 2019"
   ]
  },
  {
   "cell_type": "code",
   "execution_count": 3,
   "metadata": {
    "slideshow": {
     "slide_type": "skip"
    }
   },
   "outputs": [],
   "source": [
    "price_calendar_df = calendar[calendar['available'] == 't']\n",
    "# convert currency to Int\n",
    "price_calendar_df = price_calendar_df[price_calendar_df.columns[2:]].replace('[\\$,]', '', regex=True).astype(float)\n",
    "calendar_df = calendar.iloc[:,:2]"
   ]
  },
  {
   "cell_type": "code",
   "execution_count": 4,
   "metadata": {
    "slideshow": {
     "slide_type": "skip"
    }
   },
   "outputs": [],
   "source": [
    "def reservations():\n",
    "    total = []\n",
    "    for i in range(1,13):\n",
    "        name = 'month '+str(i)\n",
    "        try:\n",
    "            if i == 9:\n",
    "                count1 = calendar_df.loc['2019-9'].count() # 1st - 11th  \n",
    "                count2 = calendar_df.loc['2018-9'].count() # 12th - 30th\n",
    "                count = count1 + count2\n",
    "                print(count)\n",
    "            elif i == 10 or i == 11 or i == 12:\n",
    "                count = calendar_df.loc['2018-'+str(i)].count()\n",
    "            else:\n",
    "                count = calendar_df.loc['2019-'+str(i)].count()\n",
    "        except:\n",
    "            name = 'month '+str(i)+\" null\"\n",
    "        total.append((name, count))\n",
    "        \n",
    "    return total\n",
    "\n",
    "def reservations_df():\n",
    "    total = reservations()\n",
    "    total = dict(total)\n",
    "    total_df = pd.DataFrame(total)\n",
    "    total_df.name = \"2018 - 2019 Count\"\n",
    "    total_df = total_df.T # swap\n",
    "    return total_df"
   ]
  },
  {
   "cell_type": "code",
   "execution_count": 5,
   "metadata": {
    "slideshow": {
     "slide_type": "skip"
    }
   },
   "outputs": [],
   "source": [
    "def is_available(): \n",
    "    availabilities = []\n",
    "    for i in range(1,13):\n",
    "        name = 'month'+str(i)\n",
    "        try:\n",
    "            if i == 9:\n",
    "                count1 = calendar_df[calendar_df['available'] == 't'].loc['2018-'+str(i)].count()\n",
    "                count2 = calendar_df[calendar_df['available'] == 't'].loc['2019-'+str(i)].count()\n",
    "                count = count1 + count2\n",
    "            elif i == 10 or i == 11 or i == 12:\n",
    "                count = calendar_df[calendar_df['available'] == 't'].loc['2018-'+str(i)].count()\n",
    "            else:\n",
    "                count = calendar_df[calendar_df['available'] == 't'].loc['2019-'+str(i)].count()\n",
    "        except:\n",
    "            name = str(name)+\" is null\"\n",
    "        availabilities.append((name, count))\n",
    "    return availabilities\n",
    "\n",
    "def is_available_df():\n",
    "    total = is_available()\n",
    "    total = dict(total)\n",
    "    total_df = pd.DataFrame(total)\n",
    "    total_df.name = \"2018 - 2019 availability\"\n",
    "    return total_df.T"
   ]
  },
  {
   "cell_type": "code",
   "execution_count": 6,
   "metadata": {
    "slideshow": {
     "slide_type": "skip"
    }
   },
   "outputs": [],
   "source": [
    "def is_not_available(): \n",
    "    availabilities = []\n",
    "    for i in range(1,13):\n",
    "        name = 'month'+str(i)\n",
    "        try:\n",
    "            if i == 9:\n",
    "                count1 = calendar_df[calendar_df['available'] == 'f'].loc['2018-'+str(i)].count()\n",
    "                count2 = calendar_df[calendar_df['available'] == 'f'].loc['2019-'+str(i)].count()\n",
    "                count = count1 + count2\n",
    "            elif i == 10 or i == 11 or i == 12:\n",
    "                count = calendar_df[calendar_df['available'] == 'f'].loc['2018-'+str(i)].count()\n",
    "            else:\n",
    "                count = calendar_df[calendar_df['available'] == 'f'].loc['2019-'+str(i)].count()\n",
    "        except:\n",
    "            name = str(name)+\" is null\"\n",
    "        availabilities.append((name, count))\n",
    "    return availabilities\n",
    "\n",
    "def is_not_availability_df():\n",
    "    total = is_not_available()\n",
    "    total = dict(total)\n",
    "    total_df = pd.DataFrame(total)\n",
    "    return total_df.T"
   ]
  },
  {
   "cell_type": "code",
   "execution_count": 7,
   "metadata": {
    "slideshow": {
     "slide_type": "skip"
    }
   },
   "outputs": [],
   "source": [
    "def price_listing():\n",
    "    price_and_listing_quantity = []\n",
    "    for i in range(1,13):\n",
    "        try:\n",
    "            if i == 9:\n",
    "                available_count19 = price_calendar_df.price.loc['2019-'+str(i)].count()\n",
    "                available_count18 = price_calendar_df.price.loc['2018-'+str(i)].count()\n",
    "                available_count = available_count18 + available_count19\n",
    "                \n",
    "                price_2018_df = price_calendar_df.loc['2018-'+str(i)]\n",
    "                price_2019_df = price_calendar_df.loc['2019-'+str(i)]\n",
    "                \n",
    "                combined_price_df = pd.concat([price_2018_df, price_2019_df])\n",
    "                average_price = combined_price_df.mean()\n",
    "                \n",
    "                print(average_price)\n",
    "            elif i == 10 or i == 11 or i == 12:\n",
    "                available_count = price_calendar_df.price.loc['2018-'+str(i)].count()\n",
    "                average_price = price_calendar_df.loc['2018-'+str(i)].mean()\n",
    "            else:\n",
    "                available_count = price_calendar_df.price.loc['2019-'+str(i)].count()\n",
    "                average_price = price_calendar_df.loc['2019-'+str(i)].mean()\n",
    "        except:\n",
    "            available_count = str(i)\n",
    "            average_price = \"is null\"\n",
    "        price_and_listing_quantity.append((available_count, average_price))\n",
    "        \n",
    "    return price_and_listing_quantity\n",
    "\n",
    "def price_listing_df():\n",
    "    price_listings = price_listing()\n",
    "    dict_df = dict(price_listings)\n",
    "    df = pd.DataFrame(dict_df)\n",
    "    return df.T"
   ]
  },
  {
   "cell_type": "code",
   "execution_count": 109,
   "metadata": {
    "slideshow": {
     "slide_type": "skip"
    }
   },
   "outputs": [],
   "source": [
    "def price_over_time(): \n",
    "    values = []\n",
    "    for i in range(1,13):\n",
    "        name = 'month '+str(i)\n",
    "        try:\n",
    "            if i == 9:\n",
    "                price_2018_df = price_calendar_df.loc['2018-'+str(i)]\n",
    "                price_2019_df = price_calendar_df.loc['2019-'+str(i)]\n",
    "                \n",
    "                combined_price_df = pd.concat([price_2018_df, price_2019_df])\n",
    "                average_price = combined_price_df.mean()\n",
    "            elif i == 10 or i == 11 or i == 12:\n",
    "                average_price = price_calendar_df.loc['2018-'+str(i)].mean()\n",
    "            else:\n",
    "                average_price = price_calendar_df.loc['2019-'+str(i)].mean()\n",
    "        except:\n",
    "            name = str(name)+\" is null\"\n",
    "        values.append((name, average_price))\n",
    "    return values\n",
    "\n",
    "def price_over_time_df():\n",
    "    over_time = price_over_time()\n",
    "    dict_df = dict(over_time)\n",
    "    df = pd.DataFrame(dict_df)\n",
    "    return df.T"
   ]
  },
  {
   "cell_type": "code",
   "execution_count": 175,
   "metadata": {
    "slideshow": {
     "slide_type": "skip"
    }
   },
   "outputs": [],
   "source": [
    "price_calendar_2017_df = march_2017[march_2017['available'] == 't']\n",
    "price_calendar_2017_df = price_calendar_2017_df[price_calendar_2017_df.columns[2:]].replace('[\\$,]', '', regex=True).astype(float)\n",
    "\n",
    "def price_over_time_2017(): \n",
    "    values = []\n",
    "    for i in range(1,13):\n",
    "        name = 'month '+str(i)\n",
    "        try:\n",
    "            average_price = price_calendar_2017_df.loc['2017-'+str(i)].mean()\n",
    "        except:\n",
    "            average_price = np.nan\n",
    "            name = str(name)\n",
    "        values.append((name, average_price))\n",
    "    return values\n",
    "\n",
    "def price_over_time_2017_df():\n",
    "    over_time = price_over_time_2017()\n",
    "    dict_df = dict(over_time)\n",
    "    df = pd.DataFrame(dict_df)\n",
    "    return df.T"
   ]
  },
  {
   "cell_type": "code",
   "execution_count": 9,
   "metadata": {
    "slideshow": {
     "slide_type": "skip"
    }
   },
   "outputs": [
    {
     "name": "stdout",
     "output_type": "stream",
     "text": [
      "listing_id    349770\n",
      "available     349770\n",
      "dtype: int64\n"
     ]
    }
   ],
   "source": [
    "total_count_df = reservations_df()\n",
    "total_availability_df = is_available_df()\n",
    "total_not_available_df = is_not_availability_df()\n",
    "total_count_df.available = total_availability_df.available.values\n",
    "total_count_df['not available'] = total_not_available_df.available.values\n",
    "cols = ['month 9', 'month 10', 'month 11', 'month 12', 'month 1', 'month 2', 'month 3', 'month 4', 'month 5', 'month 6', 'month 7', 'month 8']\n",
    "total_count_df = total_count_df.reindex(cols)\n",
    "available_and_nonavailable_count = total_count_df.drop(columns=['listing_id'])"
   ]
  },
  {
   "cell_type": "markdown",
   "metadata": {
    "slideshow": {
     "slide_type": "slide"
    }
   },
   "source": [
    "## What are the busiest times of the year to visit Austin? By how much does prices spike?\n",
    "\n",
    "From the data, not avaiable could also mean that the listing is off the market. Since not available doesn't fully mean the listing is booked on that day, we can't conclude that July and Augst are the busiest because the not available cout is the highest."
   ]
  },
  {
   "cell_type": "code",
   "execution_count": 10,
   "metadata": {
    "scrolled": true,
    "slideshow": {
     "slide_type": "subslide"
    }
   },
   "outputs": [
    {
     "data": {
      "image/png": "[encoded data removed]",
      "text/plain": [
       "<Figure size 1440x288 with 1 Axes>"
      ]
     },
     "metadata": {},
     "output_type": "display_data"
    }
   ],
   "source": [
    "fig, ax = plt.subplots(figsize=(20,4)) \n",
    "ax = sns.lineplot(sort=False, data=available_and_nonavailable_count)"
   ]
  },
  {
   "cell_type": "markdown",
   "metadata": {
    "slideshow": {
     "slide_type": "skip"
    }
   },
   "source": [
    "The number of available listings and not available listings adds up to the total number of listings"
   ]
  },
  {
   "cell_type": "code",
   "execution_count": 11,
   "metadata": {
    "slideshow": {
     "slide_type": "subslide"
    }
   },
   "outputs": [
    {
     "data": {
      "text/plain": [
       "<matplotlib.axes._subplots.AxesSubplot at 0x10aba69e8>"
      ]
     },
     "execution_count": 11,
     "metadata": {},
     "output_type": "execute_result"
    },
    {
     "data": {
      "image/png": "[encoded data removed]",
      "text/plain": [
       "<Figure size 432x288 with 1 Axes>"
      ]
     },
     "metadata": {},
     "output_type": "display_data"
    }
   ],
   "source": [
    "sns.barplot(data=total_count_df)"
   ]
  },
  {
   "cell_type": "markdown",
   "metadata": {
    "slideshow": {
     "slide_type": "slide"
    }
   },
   "source": [
    "## What is the impact on price from the number of available listings\n",
    "\n",
    "A huge spike in price is seen March, the number of listings is relatively for the year. The low supply and high demand could be the reason for the spike in price. \n",
    "\n",
    "**Reasons**\n",
    "- SXSW 2019 (An internationally-recognized event) is set for March 8-17. This may have caused a spike in price from an average of \\$370+ to an average of \\$430+\n",
    "- Rodeo Austin in March\n",
    "- Urban Music Festival in March"
   ]
  },
  {
   "cell_type": "code",
   "execution_count": 12,
   "metadata": {
    "scrolled": true,
    "slideshow": {
     "slide_type": "subslide"
    }
   },
   "outputs": [
    {
     "name": "stdout",
     "output_type": "stream",
     "text": [
      "price    335.144561\n",
      "dtype: float64\n"
     ]
    },
    {
     "data": {
      "text/plain": [
       "[Text(0,0.5,'price'), Text(0.5,0,'number of listings')]"
      ]
     },
     "execution_count": 12,
     "metadata": {},
     "output_type": "execute_result"
    },
    {
     "data": {
      "image/png": "[encoded data removed]",
      "text/plain": [
       "<Figure size 432x288 with 1 Axes>"
      ]
     },
     "metadata": {},
     "output_type": "display_data"
    }
   ],
   "source": [
    "compare_price_with_quantity = price_listing_df()\n",
    "ax_price_quantity = sns.regplot(x='index', y='price', data=compare_price_with_quantity.reset_index())\n",
    "ax_price_quantity.set(xlabel='number of listings', ylabel='price')"
   ]
  },
  {
   "cell_type": "code",
   "execution_count": 147,
   "metadata": {
    "slideshow": {
     "slide_type": "subslide"
    }
   },
   "outputs": [
    {
     "data": {
      "text/plain": [
       "[Text(0,0.5,'price')]"
      ]
     },
     "execution_count": 147,
     "metadata": {},
     "output_type": "execute_result"
    },
    {
     "data": {
      "image/png": "[encoded data removed]",
      "text/plain": [
       "<Figure size 1440x288 with 1 Axes>"
      ]
     },
     "metadata": {},
     "output_type": "display_data"
    }
   ],
   "source": [
    "fig, ax_price_quantity = plt.subplots(figsize=(20,4)) \n",
    "over_time = price_over_time_df()\n",
    "over_time = over_time.reindex(cols)\n",
    "ax_price_quantity = sns.lineplot(sort=False, data=over_time)\n",
    "ax_price_quantity.set(ylabel='price')"
   ]
  },
  {
   "cell_type": "code",
   "execution_count": 177,
   "metadata": {
    "slideshow": {
     "slide_type": "subslide"
    }
   },
   "outputs": [
    {
     "data": {
      "text/plain": [
       "[Text(0,0.5,'price')]"
      ]
     },
     "execution_count": 177,
     "metadata": {},
     "output_type": "execute_result"
    },
    {
     "data": {
      "image/png": "[encoded data removed]",
      "text/plain": [
       "<Figure size 1440x288 with 1 Axes>"
      ]
     },
     "metadata": {},
     "output_type": "display_data"
    }
   ],
   "source": [
    "fig, ax_price_quantity_2017 = plt.subplots(figsize=(20,4)) \n",
    "over_time_2017 = price_over_time_2017_df().dropna() \n",
    "ax_price_quantity_2017 = sns.lineplot(sort=False, data=over_time_2017)\n",
    "ax_price_quantity_2017.set(ylabel='price')"
   ]
  },
  {
   "cell_type": "markdown",
   "metadata": {
    "slideshow": {
     "slide_type": "slide"
    }
   },
   "source": [
    "## Which neighbourhood has the most listings\n",
    "East Downtown has the most listings filtered by unique Ids. Most likely because events happen around the downtown area."
   ]
  },
  {
   "cell_type": "code",
   "execution_count": 14,
   "metadata": {
    "slideshow": {
     "slide_type": "subslide"
    }
   },
   "outputs": [
    {
     "data": {
      "text/plain": [
       "Text(0,0.5,'Unique Id count')"
      ]
     },
     "execution_count": 14,
     "metadata": {},
     "output_type": "execute_result"
    },
    {
     "data": {
      "image/png": "[encoded data removed]",
      "text/plain": [
       "<Figure size 360x360 with 1 Axes>"
      ]
     },
     "metadata": {},
     "output_type": "display_data"
    }
   ],
   "source": [
    "neighbourhood_listing_count = listings.groupby('neighbourhood')['id'].nunique().nlargest(5)\n",
    "neighbourhood_listing_count_df = pd.DataFrame(neighbourhood_listing_count)\n",
    "neighbourhood_listing_count_plot = neighbourhood_listing_count_df.plot(kind=\"bar\",figsize=(5,5))\n",
    "neighbourhood_listing_count_plot.set_ylabel(\"Unique Id count\")"
   ]
  },
  {
   "cell_type": "code",
   "execution_count": 15,
   "metadata": {
    "slideshow": {
     "slide_type": "skip"
    }
   },
   "outputs": [],
   "source": [
    "calendar = pd.read_csv('data/calendar.csv', parse_dates=True, index_col='date')\n",
    "listings = pd.read_csv('data/listings.csv')\n",
    "\n",
    "march_prices = calendar[['listing_id', 'available', 'price']][calendar.available == 't']['2019-03']\n",
    "march_prices.price = march_prices['price'].replace('[\\$,]', '', regex=True).astype(float)\n",
    "march_average_prices_df = pd.DataFrame(march_prices.groupby('listing_id')['price'].mean())\n",
    "\n",
    "avaiable_listings = calendar[['listing_id', 'available', 'price']][calendar.available == 't']\n",
    "avaiable_listings.price = avaiable_listings['price'].replace('[\\$,]', '', regex=True).astype(float)\n",
    "avaiable_listings_avg_price = pd.DataFrame(avaiable_listings.groupby('listing_id')['price'].mean())\n",
    "\n",
    "number_of_listings_per_year = listings.set_index('id').availability_365"
   ]
  },
  {
   "cell_type": "markdown",
   "metadata": {
    "slideshow": {
     "slide_type": "slide"
    }
   },
   "source": [
    "## What is the average days each property is listed per year\n"
   ]
  },
  {
   "cell_type": "code",
   "execution_count": 16,
   "metadata": {
    "slideshow": {
     "slide_type": "subslide"
    }
   },
   "outputs": [
    {
     "data": {
      "text/plain": [
       "141.33459130285615"
      ]
     },
     "execution_count": 16,
     "metadata": {},
     "output_type": "execute_result"
    }
   ],
   "source": [
    "number_of_listings_per_year.mean()"
   ]
  },
  {
   "cell_type": "markdown",
   "metadata": {
    "slideshow": {
     "slide_type": "slide"
    }
   },
   "source": [
    "## What is the average number of listings per year?\n",
    "\n",
    "- Most listings are rented out for less than 2 months out of the year.\n",
    "- A large portion of listings are rented out for 95% of the year. "
   ]
  },
  {
   "cell_type": "code",
   "execution_count": 18,
   "metadata": {
    "slideshow": {
     "slide_type": "subslide"
    }
   },
   "outputs": [
    {
     "data": {
      "text/plain": [
       "Text(0,0.5,'number of listings')"
      ]
     },
     "execution_count": 18,
     "metadata": {},
     "output_type": "execute_result"
    },
    {
     "data": {
      "image/png": "[encoded data removed]",
      "text/plain": [
       "<Figure size 432x288 with 1 Axes>"
      ]
     },
     "metadata": {},
     "output_type": "display_data"
    }
   ],
   "source": [
    "price_and_availability = pd.concat([avaiable_listings_avg_price,number_of_listings_per_year], axis=1)\n",
    "price_and_availability['earnings'] = price_and_availability.price * price_and_availability.availability_365\n",
    "price_and_availability.price.sort_values(ascending=False)\n",
    "price_and_availability.dropna()\n",
    "price_and_availability_plot = price_and_availability.availability_365.plot(kind=\"hist\")\n",
    "price_and_availability_plot.set_xlabel(\"days\")\n",
    "price_and_availability_plot.set_ylabel(\"number of listings\")"
   ]
  },
  {
   "cell_type": "markdown",
   "metadata": {
    "slideshow": {
     "slide_type": "slide"
    }
   },
   "source": [
    "# Conclusion\n",
    "\n",
    "- Prices spike in March due to \n",
    "    - SXSW 2019 (An internationally-recognized event)\n",
    "    - Rodeo Austin\n",
    "    - Urban Music Festival\n",
    "- Downtown has the most amount of listings\n",
    "- Most listings are rented out for less than 2 months out of the year.\n",
    "- The second majority of listings are available for an average of more than 90% of the year."
   ]
  }
 ],
 "metadata": {
  "celltoolbar": "Slideshow",
  "kernelspec": {
   "display_name": "Python 3",
   "language": "python",
   "name": "python3"
  },
  "language_info": {
   "codemirror_mode": {
    "name": "ipython",
    "version": 3
   },
   "file_extension": ".py",
   "mimetype": "text/x-python",
   "name": "python",
   "nbconvert_exporter": "python",
   "pygments_lexer": "ipython3",
   "version": "3.6.5"
  }
 },
 "nbformat": 4,
 "nbformat_minor": 2
}
