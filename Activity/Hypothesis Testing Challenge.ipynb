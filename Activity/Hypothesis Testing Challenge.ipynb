{
 "cells": [
  {
   "cell_type": "code",
   "execution_count": 20,
   "metadata": {},
   "outputs": [],
   "source": [
    "import pandas as pd\n",
    "import numpy as np\n",
    "from scipy import stats"
   ]
  },
  {
   "cell_type": "markdown",
   "metadata": {},
   "source": [
    "$\\mu$ = Proposed constant for the population mean<br>\n",
    "$\\overline{x}$ = Sample mean<br>\n",
    "$n$ = Sample size (i.e., number of observations)<br>\n",
    "$s$ = Sample standard deviation<br>\n",
    "$s_{\\overline{x}}$ = Estimated standard error of the mean (s/sqrt(n))<br>"
   ]
  },
  {
   "cell_type": "code",
   "execution_count": 21,
   "metadata": {},
   "outputs": [],
   "source": [
    "def accept_or_reject_null_hypothesis(mu, sample_mean, significant_level, N):\n",
    "    # Calculate standard deviation of the sampling distribution\n",
    "    sample_std = sample_mean / N\n",
    "    \n",
    "    # Calculate z-score from population mean (mu), sample mean and sample std\n",
    "    z = (sample_mean - mu) / sample_std\n",
    "    \n",
    "    # Calculate p-value from z-score\n",
    "    p_value = 2 * stats.norm.cdf(-np.abs(z))\n",
    "    \n",
    "    # Determine whether to accept or reject null hypothesis\n",
    "    if p_value < significant_level:\n",
    "        print('reject null hypothesis')\n",
    "        print('p value: ', p_value)\n",
    "    else:\n",
    "        print('accept null hypothesis')\n",
    "        print('p value: ', p_value)\n",
    "\n",
    "def z_t_null_hypothesis(data_sample, mu, sigma, significant_level):\n",
    "    if sigma:\n",
    "        z_score = (np.mean(data_sample)-mu)/(sigma/np.sqrt(len(data_sample)))\n",
    "        p = scipy.stats.norm.sf(abs(z_score))*2\n",
    "    elif len(data_sample) > 30:\n",
    "        z_score = (np.mean(data_sample)-mu)/(np.std(data_sample)/np.sqrt(len(data_sample)))\n",
    "        p = scipy.stats.norm.sf(abs(z_score))*2\n",
    "    else:\n",
    "        t, p = stats.ttest_1samp(data_sample, mu)\n",
    "    \n",
    "    if p < significant_level:\n",
    "        print('reject null hypothesis')\n",
    "        \n",
    "    else:\n",
    "        print('accept null hypothesis')"
   ]
  },
  {
   "cell_type": "markdown",
   "metadata": {},
   "source": [
    "# Scenario 1: Website Design Change"
   ]
  },
  {
   "cell_type": "markdown",
   "metadata": {},
   "source": [
    "*Your boss wants to know with 95% confidence if the changes to the website’s design caused a jump in sales.*"
   ]
  },
  {
   "cell_type": "markdown",
   "metadata": {},
   "source": [
    "$H_o :$ Design change has no effect ==> $\\mu_x = \\mu_x$ even with change<br><br>\n",
    "$H_a :$ Design change has effect ==> $\\mu_x > \\mu_x$ with new design<br><br>\n",
    "\n",
    "\n",
    "**Is this a one-sample or two sample test?**<br>\n",
    "Two sample because two sample t calculates a confidence interval<br>\n",
    "\n",
    "**Is this a one-sided or two-sided test?**<br>\n",
    "One sided because we are only looking for the the results above 95% confidence<br>\n",
    "\n",
    "**Is this a left-tail or right-tail test?**<br>\n",
    "Right tail test becuase we're are for a greater change<br>\n",
    "\n",
    "**What is your p-value?**<br>\n",
    "σ = Standard Deviation\n",
    "μ = mean"
   ]
  },
  {
   "cell_type": "code",
   "execution_count": 22,
   "metadata": {},
   "outputs": [],
   "source": [
    "sample_mean = 22.62\n",
    "significant_level = 0.05\n",
    "N = 100\n",
    "mu = 15.73 # population mean"
   ]
  },
  {
   "cell_type": "code",
   "execution_count": 23,
   "metadata": {},
   "outputs": [
    {
     "name": "stdout",
     "output_type": "stream",
     "text": [
      "reject null hypothesis\n",
      "p value:  8.89321083292088e-204\n"
     ]
    }
   ],
   "source": [
    "accept_or_reject_null_hypothesis(mu, sample_mean, significant_level, N)"
   ]
  },
  {
   "cell_type": "markdown",
   "metadata": {},
   "source": [
    "**Based on the data, do you reject or fail to reject the null hypothesis?**<br>\n",
    "reject the null hypothesis because there was an effect<br>\n",
    "\n",
    "**In layman’s terms, what does this mean to your boss?**<br>\n",
    "Reject the possiblity that there is no difference<br>"
   ]
  },
  {
   "cell_type": "markdown",
   "metadata": {},
   "source": [
    "# Scenario 2: Advertising Campaign"
   ]
  },
  {
   "cell_type": "markdown",
   "metadata": {},
   "source": [
    "*Is the the new ad better, worse, or the same as the current ad?*"
   ]
  },
  {
   "cell_type": "markdown",
   "metadata": {},
   "source": [
    "$H_o :$ Performance was the same ==> $\\mu_x = \\mu_x$ even with new ad<br><br>\n",
    "$H_a :$ Performance was better ==> $\\mu_x > \\mu_x$ with the new ad<br><br>\n",
    "\n",
    "\n",
    "**Is this a one-sample or two sample test?**<br>\n",
    "The paired t-test calculates the difference within each before-and-after pair of measurements<br>\n",
    "\n",
    "**Is this a one-sided or two-sided test?**<br>\n",
    "One-sided because we're looking at if the ad did better or worse<br>\n",
    "\n",
    "**Is this a left-tail or right-tail test?**<br>\n",
    "right-tail test beacuse we want to see if there was a signficant change the ad imporved<br>\n",
    "\n",
    "**What is your p-value?**<br>"
   ]
  },
  {
   "cell_type": "code",
   "execution_count": 25,
   "metadata": {},
   "outputs": [],
   "source": [
    "sample_mean = 0.46\n",
    "significant_level = 0.05\n",
    "N = 10000\n",
    "mu = 0.55 # population mean"
   ]
  },
  {
   "cell_type": "code",
   "execution_count": 26,
   "metadata": {},
   "outputs": [
    {
     "name": "stdout",
     "output_type": "stream",
     "text": [
      "reject null hypothesis\n",
      "p value:  0.0\n"
     ]
    }
   ],
   "source": [
    "accept_or_reject_null_hypothesis(mu, sample_mean, significant_level, N)"
   ]
  },
  {
   "cell_type": "markdown",
   "metadata": {},
   "source": [
    "**Based on the data, do you reject or fail to reject the null hypothesis?**<br>\n",
    "Fail to reject the null hypothesis<br>\n",
    "\n",
    "**In layman’s terms, what does this mean to your boss?**<br>\n",
    "Accept the possiblity that there is no difference<br>"
   ]
  },
  {
   "cell_type": "markdown",
   "metadata": {},
   "source": [
    "# Scenario 3: Reducing Churn Rate"
   ]
  },
  {
   "cell_type": "markdown",
   "metadata": {},
   "source": [
    "*Did the changes reduce the churn rate?*"
   ]
  },
  {
   "cell_type": "markdown",
   "metadata": {},
   "source": [
    "$H_o :$ Churn rate stayed the same ==> $\\mu_x = \\mu_x$ even with new scheme<br><br>\n",
    "$H_a :$ Churn rate reduced ==> $\\mu_x < \\mu_x$ with new scheme<br><br>\n",
    "\n",
    "\n",
    "**Is this a one-sample or two sample test?**<br>\n",
    "One sample because we do not know the standard deviation of the population<br>\n",
    "\n",
    "**Is this a one-sided or two-sided test?**<br>\n",
    "Both because we're checking for a difference<br>\n",
    "\n",
    "**Is this a left-tail or right-tail test?**<br>\n",
    "Both because we're checking if the mean of sample is different from mean of population<br>\n",
    "\n",
    "**What is your p-value?**<br>"
   ]
  },
  {
   "cell_type": "code",
   "execution_count": 29,
   "metadata": {},
   "outputs": [],
   "source": [
    "sample_mean = 0.08\n",
    "significant_level = 0.01\n",
    "N = 123422\n",
    "mu = 0.15 # population mean"
   ]
  },
  {
   "cell_type": "code",
   "execution_count": 30,
   "metadata": {},
   "outputs": [
    {
     "name": "stdout",
     "output_type": "stream",
     "text": [
      "reject null hypothesis\n",
      "p value:  0.0\n"
     ]
    }
   ],
   "source": [
    "accept_or_reject_null_hypothesis(mu, sample_mean, significant_level, N)"
   ]
  },
  {
   "cell_type": "markdown",
   "metadata": {},
   "source": [
    "**Based on the data, do you reject or fail to reject the null hypothesis?**<br>\n",
    "Fail to reject the null hypothesis<br>\n",
    "\n",
    "**In layman’s terms, what does this mean to your boss?**<br>\n",
    "Accept the possiblity that there is no difference<br>"
   ]
  },
  {
   "cell_type": "code",
   "execution_count": null,
   "metadata": {},
   "outputs": [],
   "source": []
  }
 ],
 "metadata": {
  "kernelspec": {
   "display_name": "Python 3",
   "language": "python",
   "name": "python3"
  },
  "language_info": {
   "codemirror_mode": {
    "name": "ipython",
    "version": 3
   },
   "file_extension": ".py",
   "mimetype": "text/x-python",
   "name": "python",
   "nbconvert_exporter": "python",
   "pygments_lexer": "ipython3",
   "version": "3.6.5"
  }
 },
 "nbformat": 4,
 "nbformat_minor": 2
}
